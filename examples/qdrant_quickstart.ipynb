{
 "cells": [
  {
   "cell_type": "markdown",
   "id": "85aa1cf2",
   "metadata": {},
   "source": [
    "# Alguns comandos do qdrant"
   ]
  },
  {
   "cell_type": "markdown",
   "id": "a007cfdc",
   "metadata": {},
   "source": [
    "## Collections"
   ]
  },
  {
   "cell_type": "markdown",
   "id": "b147a402",
   "metadata": {},
   "source": [
    "### Criando uma collection"
   ]
  },
  {
   "cell_type": "code",
   "execution_count": null,
   "id": "491a993b",
   "metadata": {},
   "outputs": [],
   "source": [
    "from qdrant_client import QdrantClient, models\n",
    "\n",
    "client = QdrantClient(url=\"http://localhost:6333\")\n",
    "\n",
    "client.create_collection(\n",
    "    collection_name=\"{collection_name}\",\n",
    "    vectors_config=models.VectorParams(size=100, distance=models.Distance.COSINE),\n",
    ")"
   ]
  },
  {
   "cell_type": "markdown",
   "id": "727f25e0",
   "metadata": {},
   "source": [
    "### Criando uma collection com mais de um vetor"
   ]
  },
  {
   "cell_type": "code",
   "execution_count": null,
   "id": "6bc55247",
   "metadata": {},
   "outputs": [],
   "source": [
    "from qdrant_client import QdrantClient, models\n",
    "\n",
    "\n",
    "client = QdrantClient(url=\"http://localhost:6333\")\n",
    "\n",
    "client.create_collection(\n",
    "    collection_name=\"{collection_name}\",\n",
    "    vectors_config={\n",
    "        \"image\": models.VectorParams(size=4, distance=models.Distance.DOT),\n",
    "        \"text\": models.VectorParams(size=8, distance=models.Distance.COSINE),\n",
    "    },\n",
    ")"
   ]
  },
  {
   "cell_type": "markdown",
   "id": "e364b275",
   "metadata": {},
   "source": [
    "### Deletando uma collection"
   ]
  },
  {
   "cell_type": "code",
   "execution_count": null,
   "id": "38e31f55",
   "metadata": {},
   "outputs": [],
   "source": [
    "client.delete_collection(collection_name=\"{collection_name}\")"
   ]
  },
  {
   "cell_type": "markdown",
   "id": "5aca7e8f",
   "metadata": {},
   "source": [
    "### Listando todas as collections"
   ]
  },
  {
   "cell_type": "code",
   "execution_count": 1,
   "id": "f1a08651",
   "metadata": {},
   "outputs": [
    {
     "name": "stderr",
     "output_type": "stream",
     "text": [
      "/home/rmede/projects/searchs/.venv/lib/python3.12/site-packages/tqdm/auto.py:21: TqdmWarning: IProgress not found. Please update jupyter and ipywidgets. See https://ipywidgets.readthedocs.io/en/stable/user_install.html\n",
      "  from .autonotebook import tqdm as notebook_tqdm\n"
     ]
    },
    {
     "ename": "ResponseHandlingException",
     "evalue": "[Errno 111] Connection refused",
     "output_type": "error",
     "traceback": [
      "\u001b[31m---------------------------------------------------------------------------\u001b[39m",
      "\u001b[31mConnectError\u001b[39m                              Traceback (most recent call last)",
      "\u001b[36mFile \u001b[39m\u001b[32m~/projects/searchs/.venv/lib/python3.12/site-packages/httpx/_transports/default.py:101\u001b[39m, in \u001b[36mmap_httpcore_exceptions\u001b[39m\u001b[34m()\u001b[39m\n\u001b[32m    100\u001b[39m \u001b[38;5;28;01mtry\u001b[39;00m:\n\u001b[32m--> \u001b[39m\u001b[32m101\u001b[39m     \u001b[38;5;28;01myield\u001b[39;00m\n\u001b[32m    102\u001b[39m \u001b[38;5;28;01mexcept\u001b[39;00m \u001b[38;5;167;01mException\u001b[39;00m \u001b[38;5;28;01mas\u001b[39;00m exc:\n",
      "\u001b[36mFile \u001b[39m\u001b[32m~/projects/searchs/.venv/lib/python3.12/site-packages/httpx/_transports/default.py:250\u001b[39m, in \u001b[36mHTTPTransport.handle_request\u001b[39m\u001b[34m(self, request)\u001b[39m\n\u001b[32m    249\u001b[39m \u001b[38;5;28;01mwith\u001b[39;00m map_httpcore_exceptions():\n\u001b[32m--> \u001b[39m\u001b[32m250\u001b[39m     resp = \u001b[38;5;28;43mself\u001b[39;49m\u001b[43m.\u001b[49m\u001b[43m_pool\u001b[49m\u001b[43m.\u001b[49m\u001b[43mhandle_request\u001b[49m\u001b[43m(\u001b[49m\u001b[43mreq\u001b[49m\u001b[43m)\u001b[49m\n\u001b[32m    252\u001b[39m \u001b[38;5;28;01massert\u001b[39;00m \u001b[38;5;28misinstance\u001b[39m(resp.stream, typing.Iterable)\n",
      "\u001b[36mFile \u001b[39m\u001b[32m~/projects/searchs/.venv/lib/python3.12/site-packages/httpcore/_sync/connection_pool.py:256\u001b[39m, in \u001b[36mConnectionPool.handle_request\u001b[39m\u001b[34m(self, request)\u001b[39m\n\u001b[32m    255\u001b[39m     \u001b[38;5;28mself\u001b[39m._close_connections(closing)\n\u001b[32m--> \u001b[39m\u001b[32m256\u001b[39m     \u001b[38;5;28;01mraise\u001b[39;00m exc \u001b[38;5;28;01mfrom\u001b[39;00m\u001b[38;5;250m \u001b[39m\u001b[38;5;28;01mNone\u001b[39;00m\n\u001b[32m    258\u001b[39m \u001b[38;5;66;03m# Return the response. Note that in this case we still have to manage\u001b[39;00m\n\u001b[32m    259\u001b[39m \u001b[38;5;66;03m# the point at which the response is closed.\u001b[39;00m\n",
      "\u001b[36mFile \u001b[39m\u001b[32m~/projects/searchs/.venv/lib/python3.12/site-packages/httpcore/_sync/connection_pool.py:236\u001b[39m, in \u001b[36mConnectionPool.handle_request\u001b[39m\u001b[34m(self, request)\u001b[39m\n\u001b[32m    234\u001b[39m \u001b[38;5;28;01mtry\u001b[39;00m:\n\u001b[32m    235\u001b[39m     \u001b[38;5;66;03m# Send the request on the assigned connection.\u001b[39;00m\n\u001b[32m--> \u001b[39m\u001b[32m236\u001b[39m     response = \u001b[43mconnection\u001b[49m\u001b[43m.\u001b[49m\u001b[43mhandle_request\u001b[49m\u001b[43m(\u001b[49m\n\u001b[32m    237\u001b[39m \u001b[43m        \u001b[49m\u001b[43mpool_request\u001b[49m\u001b[43m.\u001b[49m\u001b[43mrequest\u001b[49m\n\u001b[32m    238\u001b[39m \u001b[43m    \u001b[49m\u001b[43m)\u001b[49m\n\u001b[32m    239\u001b[39m \u001b[38;5;28;01mexcept\u001b[39;00m ConnectionNotAvailable:\n\u001b[32m    240\u001b[39m     \u001b[38;5;66;03m# In some cases a connection may initially be available to\u001b[39;00m\n\u001b[32m    241\u001b[39m     \u001b[38;5;66;03m# handle a request, but then become unavailable.\u001b[39;00m\n\u001b[32m    242\u001b[39m     \u001b[38;5;66;03m#\u001b[39;00m\n\u001b[32m    243\u001b[39m     \u001b[38;5;66;03m# In this case we clear the connection and try again.\u001b[39;00m\n",
      "\u001b[36mFile \u001b[39m\u001b[32m~/projects/searchs/.venv/lib/python3.12/site-packages/httpcore/_sync/connection.py:101\u001b[39m, in \u001b[36mHTTPConnection.handle_request\u001b[39m\u001b[34m(self, request)\u001b[39m\n\u001b[32m    100\u001b[39m     \u001b[38;5;28mself\u001b[39m._connect_failed = \u001b[38;5;28;01mTrue\u001b[39;00m\n\u001b[32m--> \u001b[39m\u001b[32m101\u001b[39m     \u001b[38;5;28;01mraise\u001b[39;00m exc\n\u001b[32m    103\u001b[39m \u001b[38;5;28;01mreturn\u001b[39;00m \u001b[38;5;28mself\u001b[39m._connection.handle_request(request)\n",
      "\u001b[36mFile \u001b[39m\u001b[32m~/projects/searchs/.venv/lib/python3.12/site-packages/httpcore/_sync/connection.py:78\u001b[39m, in \u001b[36mHTTPConnection.handle_request\u001b[39m\u001b[34m(self, request)\u001b[39m\n\u001b[32m     77\u001b[39m \u001b[38;5;28;01mif\u001b[39;00m \u001b[38;5;28mself\u001b[39m._connection \u001b[38;5;129;01mis\u001b[39;00m \u001b[38;5;28;01mNone\u001b[39;00m:\n\u001b[32m---> \u001b[39m\u001b[32m78\u001b[39m     stream = \u001b[38;5;28;43mself\u001b[39;49m\u001b[43m.\u001b[49m\u001b[43m_connect\u001b[49m\u001b[43m(\u001b[49m\u001b[43mrequest\u001b[49m\u001b[43m)\u001b[49m\n\u001b[32m     80\u001b[39m     ssl_object = stream.get_extra_info(\u001b[33m\"\u001b[39m\u001b[33mssl_object\u001b[39m\u001b[33m\"\u001b[39m)\n",
      "\u001b[36mFile \u001b[39m\u001b[32m~/projects/searchs/.venv/lib/python3.12/site-packages/httpcore/_sync/connection.py:124\u001b[39m, in \u001b[36mHTTPConnection._connect\u001b[39m\u001b[34m(self, request)\u001b[39m\n\u001b[32m    123\u001b[39m \u001b[38;5;28;01mwith\u001b[39;00m Trace(\u001b[33m\"\u001b[39m\u001b[33mconnect_tcp\u001b[39m\u001b[33m\"\u001b[39m, logger, request, kwargs) \u001b[38;5;28;01mas\u001b[39;00m trace:\n\u001b[32m--> \u001b[39m\u001b[32m124\u001b[39m     stream = \u001b[38;5;28;43mself\u001b[39;49m\u001b[43m.\u001b[49m\u001b[43m_network_backend\u001b[49m\u001b[43m.\u001b[49m\u001b[43mconnect_tcp\u001b[49m\u001b[43m(\u001b[49m\u001b[43m*\u001b[49m\u001b[43m*\u001b[49m\u001b[43mkwargs\u001b[49m\u001b[43m)\u001b[49m\n\u001b[32m    125\u001b[39m     trace.return_value = stream\n",
      "\u001b[36mFile \u001b[39m\u001b[32m~/projects/searchs/.venv/lib/python3.12/site-packages/httpcore/_backends/sync.py:207\u001b[39m, in \u001b[36mSyncBackend.connect_tcp\u001b[39m\u001b[34m(self, host, port, timeout, local_address, socket_options)\u001b[39m\n\u001b[32m    202\u001b[39m exc_map: ExceptionMapping = {\n\u001b[32m    203\u001b[39m     socket.timeout: ConnectTimeout,\n\u001b[32m    204\u001b[39m     \u001b[38;5;167;01mOSError\u001b[39;00m: ConnectError,\n\u001b[32m    205\u001b[39m }\n\u001b[32m--> \u001b[39m\u001b[32m207\u001b[39m \u001b[43m\u001b[49m\u001b[38;5;28;43;01mwith\u001b[39;49;00m\u001b[43m \u001b[49m\u001b[43mmap_exceptions\u001b[49m\u001b[43m(\u001b[49m\u001b[43mexc_map\u001b[49m\u001b[43m)\u001b[49m\u001b[43m:\u001b[49m\n\u001b[32m    208\u001b[39m \u001b[43m    \u001b[49m\u001b[43msock\u001b[49m\u001b[43m \u001b[49m\u001b[43m=\u001b[49m\u001b[43m \u001b[49m\u001b[43msocket\u001b[49m\u001b[43m.\u001b[49m\u001b[43mcreate_connection\u001b[49m\u001b[43m(\u001b[49m\n\u001b[32m    209\u001b[39m \u001b[43m        \u001b[49m\u001b[43maddress\u001b[49m\u001b[43m,\u001b[49m\n\u001b[32m    210\u001b[39m \u001b[43m        \u001b[49m\u001b[43mtimeout\u001b[49m\u001b[43m,\u001b[49m\n\u001b[32m    211\u001b[39m \u001b[43m        \u001b[49m\u001b[43msource_address\u001b[49m\u001b[43m=\u001b[49m\u001b[43msource_address\u001b[49m\u001b[43m,\u001b[49m\n\u001b[32m    212\u001b[39m \u001b[43m    \u001b[49m\u001b[43m)\u001b[49m\n",
      "\u001b[36mFile \u001b[39m\u001b[32m/usr/lib/python3.12/contextlib.py:158\u001b[39m, in \u001b[36m_GeneratorContextManager.__exit__\u001b[39m\u001b[34m(self, typ, value, traceback)\u001b[39m\n\u001b[32m    157\u001b[39m \u001b[38;5;28;01mtry\u001b[39;00m:\n\u001b[32m--> \u001b[39m\u001b[32m158\u001b[39m     \u001b[38;5;28;43mself\u001b[39;49m\u001b[43m.\u001b[49m\u001b[43mgen\u001b[49m\u001b[43m.\u001b[49m\u001b[43mthrow\u001b[49m\u001b[43m(\u001b[49m\u001b[43mvalue\u001b[49m\u001b[43m)\u001b[49m\n\u001b[32m    159\u001b[39m \u001b[38;5;28;01mexcept\u001b[39;00m \u001b[38;5;167;01mStopIteration\u001b[39;00m \u001b[38;5;28;01mas\u001b[39;00m exc:\n\u001b[32m    160\u001b[39m     \u001b[38;5;66;03m# Suppress StopIteration *unless* it's the same exception that\u001b[39;00m\n\u001b[32m    161\u001b[39m     \u001b[38;5;66;03m# was passed to throw().  This prevents a StopIteration\u001b[39;00m\n\u001b[32m    162\u001b[39m     \u001b[38;5;66;03m# raised inside the \"with\" statement from being suppressed.\u001b[39;00m\n",
      "\u001b[36mFile \u001b[39m\u001b[32m~/projects/searchs/.venv/lib/python3.12/site-packages/httpcore/_exceptions.py:14\u001b[39m, in \u001b[36mmap_exceptions\u001b[39m\u001b[34m(map)\u001b[39m\n\u001b[32m     13\u001b[39m     \u001b[38;5;28;01mif\u001b[39;00m \u001b[38;5;28misinstance\u001b[39m(exc, from_exc):\n\u001b[32m---> \u001b[39m\u001b[32m14\u001b[39m         \u001b[38;5;28;01mraise\u001b[39;00m to_exc(exc) \u001b[38;5;28;01mfrom\u001b[39;00m\u001b[38;5;250m \u001b[39m\u001b[34;01mexc\u001b[39;00m\n\u001b[32m     15\u001b[39m \u001b[38;5;28;01mraise\u001b[39;00m\n",
      "\u001b[31mConnectError\u001b[39m: [Errno 111] Connection refused",
      "\nThe above exception was the direct cause of the following exception:\n",
      "\u001b[31mConnectError\u001b[39m                              Traceback (most recent call last)",
      "\u001b[36mFile \u001b[39m\u001b[32m~/projects/searchs/.venv/lib/python3.12/site-packages/qdrant_client/http/api_client.py:134\u001b[39m, in \u001b[36mApiClient.send_inner\u001b[39m\u001b[34m(self, request)\u001b[39m\n\u001b[32m    133\u001b[39m \u001b[38;5;28;01mtry\u001b[39;00m:\n\u001b[32m--> \u001b[39m\u001b[32m134\u001b[39m     response = \u001b[38;5;28;43mself\u001b[39;49m\u001b[43m.\u001b[49m\u001b[43m_client\u001b[49m\u001b[43m.\u001b[49m\u001b[43msend\u001b[49m\u001b[43m(\u001b[49m\u001b[43mrequest\u001b[49m\u001b[43m)\u001b[49m\n\u001b[32m    135\u001b[39m \u001b[38;5;28;01mexcept\u001b[39;00m \u001b[38;5;167;01mException\u001b[39;00m \u001b[38;5;28;01mas\u001b[39;00m e:\n",
      "\u001b[36mFile \u001b[39m\u001b[32m~/projects/searchs/.venv/lib/python3.12/site-packages/httpx/_client.py:914\u001b[39m, in \u001b[36mClient.send\u001b[39m\u001b[34m(self, request, stream, auth, follow_redirects)\u001b[39m\n\u001b[32m    912\u001b[39m auth = \u001b[38;5;28mself\u001b[39m._build_request_auth(request, auth)\n\u001b[32m--> \u001b[39m\u001b[32m914\u001b[39m response = \u001b[38;5;28;43mself\u001b[39;49m\u001b[43m.\u001b[49m\u001b[43m_send_handling_auth\u001b[49m\u001b[43m(\u001b[49m\n\u001b[32m    915\u001b[39m \u001b[43m    \u001b[49m\u001b[43mrequest\u001b[49m\u001b[43m,\u001b[49m\n\u001b[32m    916\u001b[39m \u001b[43m    \u001b[49m\u001b[43mauth\u001b[49m\u001b[43m=\u001b[49m\u001b[43mauth\u001b[49m\u001b[43m,\u001b[49m\n\u001b[32m    917\u001b[39m \u001b[43m    \u001b[49m\u001b[43mfollow_redirects\u001b[49m\u001b[43m=\u001b[49m\u001b[43mfollow_redirects\u001b[49m\u001b[43m,\u001b[49m\n\u001b[32m    918\u001b[39m \u001b[43m    \u001b[49m\u001b[43mhistory\u001b[49m\u001b[43m=\u001b[49m\u001b[43m[\u001b[49m\u001b[43m]\u001b[49m\u001b[43m,\u001b[49m\n\u001b[32m    919\u001b[39m \u001b[43m\u001b[49m\u001b[43m)\u001b[49m\n\u001b[32m    920\u001b[39m \u001b[38;5;28;01mtry\u001b[39;00m:\n",
      "\u001b[36mFile \u001b[39m\u001b[32m~/projects/searchs/.venv/lib/python3.12/site-packages/httpx/_client.py:942\u001b[39m, in \u001b[36mClient._send_handling_auth\u001b[39m\u001b[34m(self, request, auth, follow_redirects, history)\u001b[39m\n\u001b[32m    941\u001b[39m \u001b[38;5;28;01mwhile\u001b[39;00m \u001b[38;5;28;01mTrue\u001b[39;00m:\n\u001b[32m--> \u001b[39m\u001b[32m942\u001b[39m     response = \u001b[38;5;28;43mself\u001b[39;49m\u001b[43m.\u001b[49m\u001b[43m_send_handling_redirects\u001b[49m\u001b[43m(\u001b[49m\n\u001b[32m    943\u001b[39m \u001b[43m        \u001b[49m\u001b[43mrequest\u001b[49m\u001b[43m,\u001b[49m\n\u001b[32m    944\u001b[39m \u001b[43m        \u001b[49m\u001b[43mfollow_redirects\u001b[49m\u001b[43m=\u001b[49m\u001b[43mfollow_redirects\u001b[49m\u001b[43m,\u001b[49m\n\u001b[32m    945\u001b[39m \u001b[43m        \u001b[49m\u001b[43mhistory\u001b[49m\u001b[43m=\u001b[49m\u001b[43mhistory\u001b[49m\u001b[43m,\u001b[49m\n\u001b[32m    946\u001b[39m \u001b[43m    \u001b[49m\u001b[43m)\u001b[49m\n\u001b[32m    947\u001b[39m     \u001b[38;5;28;01mtry\u001b[39;00m:\n",
      "\u001b[36mFile \u001b[39m\u001b[32m~/projects/searchs/.venv/lib/python3.12/site-packages/httpx/_client.py:979\u001b[39m, in \u001b[36mClient._send_handling_redirects\u001b[39m\u001b[34m(self, request, follow_redirects, history)\u001b[39m\n\u001b[32m    977\u001b[39m     hook(request)\n\u001b[32m--> \u001b[39m\u001b[32m979\u001b[39m response = \u001b[38;5;28;43mself\u001b[39;49m\u001b[43m.\u001b[49m\u001b[43m_send_single_request\u001b[49m\u001b[43m(\u001b[49m\u001b[43mrequest\u001b[49m\u001b[43m)\u001b[49m\n\u001b[32m    980\u001b[39m \u001b[38;5;28;01mtry\u001b[39;00m:\n",
      "\u001b[36mFile \u001b[39m\u001b[32m~/projects/searchs/.venv/lib/python3.12/site-packages/httpx/_client.py:1014\u001b[39m, in \u001b[36mClient._send_single_request\u001b[39m\u001b[34m(self, request)\u001b[39m\n\u001b[32m   1013\u001b[39m \u001b[38;5;28;01mwith\u001b[39;00m request_context(request=request):\n\u001b[32m-> \u001b[39m\u001b[32m1014\u001b[39m     response = \u001b[43mtransport\u001b[49m\u001b[43m.\u001b[49m\u001b[43mhandle_request\u001b[49m\u001b[43m(\u001b[49m\u001b[43mrequest\u001b[49m\u001b[43m)\u001b[49m\n\u001b[32m   1016\u001b[39m \u001b[38;5;28;01massert\u001b[39;00m \u001b[38;5;28misinstance\u001b[39m(response.stream, SyncByteStream)\n",
      "\u001b[36mFile \u001b[39m\u001b[32m~/projects/searchs/.venv/lib/python3.12/site-packages/httpx/_transports/default.py:249\u001b[39m, in \u001b[36mHTTPTransport.handle_request\u001b[39m\u001b[34m(self, request)\u001b[39m\n\u001b[32m    237\u001b[39m req = httpcore.Request(\n\u001b[32m    238\u001b[39m     method=request.method,\n\u001b[32m    239\u001b[39m     url=httpcore.URL(\n\u001b[32m   (...)\u001b[39m\u001b[32m    247\u001b[39m     extensions=request.extensions,\n\u001b[32m    248\u001b[39m )\n\u001b[32m--> \u001b[39m\u001b[32m249\u001b[39m \u001b[43m\u001b[49m\u001b[38;5;28;43;01mwith\u001b[39;49;00m\u001b[43m \u001b[49m\u001b[43mmap_httpcore_exceptions\u001b[49m\u001b[43m(\u001b[49m\u001b[43m)\u001b[49m\u001b[43m:\u001b[49m\n\u001b[32m    250\u001b[39m \u001b[43m    \u001b[49m\u001b[43mresp\u001b[49m\u001b[43m \u001b[49m\u001b[43m=\u001b[49m\u001b[43m \u001b[49m\u001b[38;5;28;43mself\u001b[39;49m\u001b[43m.\u001b[49m\u001b[43m_pool\u001b[49m\u001b[43m.\u001b[49m\u001b[43mhandle_request\u001b[49m\u001b[43m(\u001b[49m\u001b[43mreq\u001b[49m\u001b[43m)\u001b[49m\n",
      "\u001b[36mFile \u001b[39m\u001b[32m/usr/lib/python3.12/contextlib.py:158\u001b[39m, in \u001b[36m_GeneratorContextManager.__exit__\u001b[39m\u001b[34m(self, typ, value, traceback)\u001b[39m\n\u001b[32m    157\u001b[39m \u001b[38;5;28;01mtry\u001b[39;00m:\n\u001b[32m--> \u001b[39m\u001b[32m158\u001b[39m     \u001b[38;5;28;43mself\u001b[39;49m\u001b[43m.\u001b[49m\u001b[43mgen\u001b[49m\u001b[43m.\u001b[49m\u001b[43mthrow\u001b[49m\u001b[43m(\u001b[49m\u001b[43mvalue\u001b[49m\u001b[43m)\u001b[49m\n\u001b[32m    159\u001b[39m \u001b[38;5;28;01mexcept\u001b[39;00m \u001b[38;5;167;01mStopIteration\u001b[39;00m \u001b[38;5;28;01mas\u001b[39;00m exc:\n\u001b[32m    160\u001b[39m     \u001b[38;5;66;03m# Suppress StopIteration *unless* it's the same exception that\u001b[39;00m\n\u001b[32m    161\u001b[39m     \u001b[38;5;66;03m# was passed to throw().  This prevents a StopIteration\u001b[39;00m\n\u001b[32m    162\u001b[39m     \u001b[38;5;66;03m# raised inside the \"with\" statement from being suppressed.\u001b[39;00m\n",
      "\u001b[36mFile \u001b[39m\u001b[32m~/projects/searchs/.venv/lib/python3.12/site-packages/httpx/_transports/default.py:118\u001b[39m, in \u001b[36mmap_httpcore_exceptions\u001b[39m\u001b[34m()\u001b[39m\n\u001b[32m    117\u001b[39m message = \u001b[38;5;28mstr\u001b[39m(exc)\n\u001b[32m--> \u001b[39m\u001b[32m118\u001b[39m \u001b[38;5;28;01mraise\u001b[39;00m mapped_exc(message) \u001b[38;5;28;01mfrom\u001b[39;00m\u001b[38;5;250m \u001b[39m\u001b[34;01mexc\u001b[39;00m\n",
      "\u001b[31mConnectError\u001b[39m: [Errno 111] Connection refused",
      "\nDuring handling of the above exception, another exception occurred:\n",
      "\u001b[31mResponseHandlingException\u001b[39m                 Traceback (most recent call last)",
      "\u001b[36mCell\u001b[39m\u001b[36m \u001b[39m\u001b[32mIn[1]\u001b[39m\u001b[32m, line 5\u001b[39m\n\u001b[32m      1\u001b[39m \u001b[38;5;28;01mfrom\u001b[39;00m\u001b[38;5;250m \u001b[39m\u001b[34;01mqdrant_client\u001b[39;00m\u001b[38;5;250m \u001b[39m\u001b[38;5;28;01mimport\u001b[39;00m QdrantClient\n\u001b[32m      3\u001b[39m client = QdrantClient(url=\u001b[33m\"\u001b[39m\u001b[33mhttp://localhost:6333\u001b[39m\u001b[33m\"\u001b[39m)\n\u001b[32m----> \u001b[39m\u001b[32m5\u001b[39m \u001b[43mclient\u001b[49m\u001b[43m.\u001b[49m\u001b[43mget_collections\u001b[49m\u001b[43m(\u001b[49m\u001b[43m)\u001b[49m\n",
      "\u001b[36mFile \u001b[39m\u001b[32m~/projects/searchs/.venv/lib/python3.12/site-packages/qdrant_client/qdrant_client.py:2210\u001b[39m, in \u001b[36mQdrantClient.get_collections\u001b[39m\u001b[34m(self, **kwargs)\u001b[39m\n\u001b[32m   2203\u001b[39m \u001b[38;5;250m\u001b[39m\u001b[33;03m\"\"\"Get list name of all existing collections\u001b[39;00m\n\u001b[32m   2204\u001b[39m \n\u001b[32m   2205\u001b[39m \u001b[33;03mReturns:\u001b[39;00m\n\u001b[32m   2206\u001b[39m \u001b[33;03m    List of the collections\u001b[39;00m\n\u001b[32m   2207\u001b[39m \u001b[33;03m\"\"\"\u001b[39;00m\n\u001b[32m   2208\u001b[39m \u001b[38;5;28;01massert\u001b[39;00m \u001b[38;5;28mlen\u001b[39m(kwargs) == \u001b[32m0\u001b[39m, \u001b[33mf\u001b[39m\u001b[33m\"\u001b[39m\u001b[33mUnknown arguments: \u001b[39m\u001b[38;5;132;01m{\u001b[39;00m\u001b[38;5;28mlist\u001b[39m(kwargs.keys())\u001b[38;5;132;01m}\u001b[39;00m\u001b[33m\"\u001b[39m\n\u001b[32m-> \u001b[39m\u001b[32m2210\u001b[39m \u001b[38;5;28;01mreturn\u001b[39;00m \u001b[38;5;28;43mself\u001b[39;49m\u001b[43m.\u001b[49m\u001b[43m_client\u001b[49m\u001b[43m.\u001b[49m\u001b[43mget_collections\u001b[49m\u001b[43m(\u001b[49m\u001b[43m*\u001b[49m\u001b[43m*\u001b[49m\u001b[43mkwargs\u001b[49m\u001b[43m)\u001b[49m\n",
      "\u001b[36mFile \u001b[39m\u001b[32m~/projects/searchs/.venv/lib/python3.12/site-packages/qdrant_client/qdrant_remote.py:2571\u001b[39m, in \u001b[36mQdrantRemote.get_collections\u001b[39m\u001b[34m(self, **kwargs)\u001b[39m\n\u001b[32m   2560\u001b[39m     response = \u001b[38;5;28mself\u001b[39m.grpc_collections.List(\n\u001b[32m   2561\u001b[39m         grpc.ListCollectionsRequest(), timeout=\u001b[38;5;28mself\u001b[39m._timeout\n\u001b[32m   2562\u001b[39m     ).collections\n\u001b[32m   2563\u001b[39m     \u001b[38;5;28;01mreturn\u001b[39;00m types.CollectionsResponse(\n\u001b[32m   2564\u001b[39m         collections=[\n\u001b[32m   2565\u001b[39m             GrpcToRest.convert_collection_description(description)\n\u001b[32m   2566\u001b[39m             \u001b[38;5;28;01mfor\u001b[39;00m description \u001b[38;5;129;01min\u001b[39;00m response\n\u001b[32m   2567\u001b[39m         ]\n\u001b[32m   2568\u001b[39m     )\n\u001b[32m   2570\u001b[39m result: Optional[types.CollectionsResponse] = (\n\u001b[32m-> \u001b[39m\u001b[32m2571\u001b[39m     \u001b[38;5;28;43mself\u001b[39;49m\u001b[43m.\u001b[49m\u001b[43mhttp\u001b[49m\u001b[43m.\u001b[49m\u001b[43mcollections_api\u001b[49m\u001b[43m.\u001b[49m\u001b[43mget_collections\u001b[49m\u001b[43m(\u001b[49m\u001b[43m)\u001b[49m.result\n\u001b[32m   2572\u001b[39m )\n\u001b[32m   2573\u001b[39m \u001b[38;5;28;01massert\u001b[39;00m result \u001b[38;5;129;01mis\u001b[39;00m \u001b[38;5;129;01mnot\u001b[39;00m \u001b[38;5;28;01mNone\u001b[39;00m, \u001b[33m\"\u001b[39m\u001b[33mGet collections returned None\u001b[39m\u001b[33m\"\u001b[39m\n\u001b[32m   2574\u001b[39m \u001b[38;5;28;01mreturn\u001b[39;00m result\n",
      "\u001b[36mFile \u001b[39m\u001b[32m~/projects/searchs/.venv/lib/python3.12/site-packages/qdrant_client/http/api/collections_api.py:330\u001b[39m, in \u001b[36mSyncCollectionsApi.get_collections\u001b[39m\u001b[34m(self)\u001b[39m\n\u001b[32m    324\u001b[39m \u001b[38;5;28;01mdef\u001b[39;00m\u001b[38;5;250m \u001b[39m\u001b[34mget_collections\u001b[39m(\n\u001b[32m    325\u001b[39m     \u001b[38;5;28mself\u001b[39m,\n\u001b[32m    326\u001b[39m ) -> m.InlineResponse2004:\n\u001b[32m    327\u001b[39m \u001b[38;5;250m    \u001b[39m\u001b[33;03m\"\"\"\u001b[39;00m\n\u001b[32m    328\u001b[39m \u001b[33;03m    Get list name of all existing collections\u001b[39;00m\n\u001b[32m    329\u001b[39m \u001b[33;03m    \"\"\"\u001b[39;00m\n\u001b[32m--> \u001b[39m\u001b[32m330\u001b[39m     \u001b[38;5;28;01mreturn\u001b[39;00m \u001b[38;5;28;43mself\u001b[39;49m\u001b[43m.\u001b[49m\u001b[43m_build_for_get_collections\u001b[49m\u001b[43m(\u001b[49m\u001b[43m)\u001b[49m\n",
      "\u001b[36mFile \u001b[39m\u001b[32m~/projects/searchs/.venv/lib/python3.12/site-packages/qdrant_client/http/api/collections_api.py:159\u001b[39m, in \u001b[36m_CollectionsApi._build_for_get_collections\u001b[39m\u001b[34m(self)\u001b[39m\n\u001b[32m    155\u001b[39m \u001b[38;5;250m\u001b[39m\u001b[33;03m\"\"\"\u001b[39;00m\n\u001b[32m    156\u001b[39m \u001b[33;03mGet list name of all existing collections\u001b[39;00m\n\u001b[32m    157\u001b[39m \u001b[33;03m\"\"\"\u001b[39;00m\n\u001b[32m    158\u001b[39m headers = {}\n\u001b[32m--> \u001b[39m\u001b[32m159\u001b[39m \u001b[38;5;28;01mreturn\u001b[39;00m \u001b[38;5;28;43mself\u001b[39;49m\u001b[43m.\u001b[49m\u001b[43mapi_client\u001b[49m\u001b[43m.\u001b[49m\u001b[43mrequest\u001b[49m\u001b[43m(\u001b[49m\n\u001b[32m    160\u001b[39m \u001b[43m    \u001b[49m\u001b[43mtype_\u001b[49m\u001b[43m=\u001b[49m\u001b[43mm\u001b[49m\u001b[43m.\u001b[49m\u001b[43mInlineResponse2004\u001b[49m\u001b[43m,\u001b[49m\n\u001b[32m    161\u001b[39m \u001b[43m    \u001b[49m\u001b[43mmethod\u001b[49m\u001b[43m=\u001b[49m\u001b[33;43m\"\u001b[39;49m\u001b[33;43mGET\u001b[39;49m\u001b[33;43m\"\u001b[39;49m\u001b[43m,\u001b[49m\n\u001b[32m    162\u001b[39m \u001b[43m    \u001b[49m\u001b[43murl\u001b[49m\u001b[43m=\u001b[49m\u001b[33;43m\"\u001b[39;49m\u001b[33;43m/collections\u001b[39;49m\u001b[33;43m\"\u001b[39;49m\u001b[43m,\u001b[49m\n\u001b[32m    163\u001b[39m \u001b[43m    \u001b[49m\u001b[43mheaders\u001b[49m\u001b[43m=\u001b[49m\u001b[43mheaders\u001b[49m\u001b[43m \u001b[49m\u001b[38;5;28;43;01mif\u001b[39;49;00m\u001b[43m \u001b[49m\u001b[43mheaders\u001b[49m\u001b[43m \u001b[49m\u001b[38;5;28;43;01melse\u001b[39;49;00m\u001b[43m \u001b[49m\u001b[38;5;28;43;01mNone\u001b[39;49;00m\u001b[43m,\u001b[49m\n\u001b[32m    164\u001b[39m \u001b[43m\u001b[49m\u001b[43m)\u001b[49m\n",
      "\u001b[36mFile \u001b[39m\u001b[32m~/projects/searchs/.venv/lib/python3.12/site-packages/qdrant_client/http/api_client.py:95\u001b[39m, in \u001b[36mApiClient.request\u001b[39m\u001b[34m(self, type_, method, url, path_params, **kwargs)\u001b[39m\n\u001b[32m     93\u001b[39m     kwargs[\u001b[33m\"\u001b[39m\u001b[33mtimeout\u001b[39m\u001b[33m\"\u001b[39m] = \u001b[38;5;28mint\u001b[39m(kwargs[\u001b[33m\"\u001b[39m\u001b[33mparams\u001b[39m\u001b[33m\"\u001b[39m][\u001b[33m\"\u001b[39m\u001b[33mtimeout\u001b[39m\u001b[33m\"\u001b[39m])\n\u001b[32m     94\u001b[39m request = \u001b[38;5;28mself\u001b[39m._client.build_request(method, url, **kwargs)\n\u001b[32m---> \u001b[39m\u001b[32m95\u001b[39m \u001b[38;5;28;01mreturn\u001b[39;00m \u001b[38;5;28;43mself\u001b[39;49m\u001b[43m.\u001b[49m\u001b[43msend\u001b[49m\u001b[43m(\u001b[49m\u001b[43mrequest\u001b[49m\u001b[43m,\u001b[49m\u001b[43m \u001b[49m\u001b[43mtype_\u001b[49m\u001b[43m)\u001b[49m\n",
      "\u001b[36mFile \u001b[39m\u001b[32m~/projects/searchs/.venv/lib/python3.12/site-packages/qdrant_client/http/api_client.py:112\u001b[39m, in \u001b[36mApiClient.send\u001b[39m\u001b[34m(self, request, type_)\u001b[39m\n\u001b[32m    111\u001b[39m \u001b[38;5;28;01mdef\u001b[39;00m\u001b[38;5;250m \u001b[39m\u001b[34msend\u001b[39m(\u001b[38;5;28mself\u001b[39m, request: Request, type_: Type[T]) -> T:\n\u001b[32m--> \u001b[39m\u001b[32m112\u001b[39m     response = \u001b[38;5;28;43mself\u001b[39;49m\u001b[43m.\u001b[49m\u001b[43mmiddleware\u001b[49m\u001b[43m(\u001b[49m\u001b[43mrequest\u001b[49m\u001b[43m,\u001b[49m\u001b[43m \u001b[49m\u001b[38;5;28;43mself\u001b[39;49m\u001b[43m.\u001b[49m\u001b[43msend_inner\u001b[49m\u001b[43m)\u001b[49m\n\u001b[32m    114\u001b[39m     \u001b[38;5;28;01mif\u001b[39;00m response.status_code == \u001b[32m429\u001b[39m:\n\u001b[32m    115\u001b[39m         retry_after_s = response.headers.get(\u001b[33m\"\u001b[39m\u001b[33mRetry-After\u001b[39m\u001b[33m\"\u001b[39m, \u001b[38;5;28;01mNone\u001b[39;00m)\n",
      "\u001b[36mFile \u001b[39m\u001b[32m~/projects/searchs/.venv/lib/python3.12/site-packages/qdrant_client/http/api_client.py:250\u001b[39m, in \u001b[36mBaseMiddleware.__call__\u001b[39m\u001b[34m(self, request, call_next)\u001b[39m\n\u001b[32m    249\u001b[39m \u001b[38;5;28;01mdef\u001b[39;00m\u001b[38;5;250m \u001b[39m\u001b[34m__call__\u001b[39m(\u001b[38;5;28mself\u001b[39m, request: Request, call_next: Send) -> Response:\n\u001b[32m--> \u001b[39m\u001b[32m250\u001b[39m     \u001b[38;5;28;01mreturn\u001b[39;00m \u001b[43mcall_next\u001b[49m\u001b[43m(\u001b[49m\u001b[43mrequest\u001b[49m\u001b[43m)\u001b[49m\n",
      "\u001b[36mFile \u001b[39m\u001b[32m~/projects/searchs/.venv/lib/python3.12/site-packages/qdrant_client/http/api_client.py:136\u001b[39m, in \u001b[36mApiClient.send_inner\u001b[39m\u001b[34m(self, request)\u001b[39m\n\u001b[32m    134\u001b[39m     response = \u001b[38;5;28mself\u001b[39m._client.send(request)\n\u001b[32m    135\u001b[39m \u001b[38;5;28;01mexcept\u001b[39;00m \u001b[38;5;167;01mException\u001b[39;00m \u001b[38;5;28;01mas\u001b[39;00m e:\n\u001b[32m--> \u001b[39m\u001b[32m136\u001b[39m     \u001b[38;5;28;01mraise\u001b[39;00m ResponseHandlingException(e)\n\u001b[32m    137\u001b[39m \u001b[38;5;28;01mreturn\u001b[39;00m response\n",
      "\u001b[31mResponseHandlingException\u001b[39m: [Errno 111] Connection refused"
     ]
    }
   ],
   "source": [
    "from qdrant_client import QdrantClient\n",
    "\n",
    "client = QdrantClient(url=\"http://localhost:6333\")\n",
    "\n",
    "client.get_collections()"
   ]
  },
  {
   "cell_type": "markdown",
   "id": "2be8194a",
   "metadata": {},
   "source": [
    "### Subindo dados numa coleção em batch"
   ]
  },
  {
   "cell_type": "code",
   "execution_count": null,
   "id": "8b8c1ed5",
   "metadata": {},
   "outputs": [],
   "source": [
    "# Primeira forma\n",
    "\n",
    "client.upsert(\n",
    "    collection_name=\"{collection_name}\",\n",
    "    points=models.Batch(\n",
    "        ids=[1, 2, 3],\n",
    "        payloads=[\n",
    "            {\"color\": \"red\"},\n",
    "            {\"color\": \"green\"},\n",
    "            {\"color\": \"blue\"},\n",
    "        ],\n",
    "        vectors=[\n",
    "            [0.9, 0.1, 0.1],\n",
    "            [0.1, 0.9, 0.1],\n",
    "            [0.1, 0.1, 0.9],\n",
    "        ],\n",
    "    ),\n",
    ")\n"
   ]
  },
  {
   "cell_type": "code",
   "execution_count": null,
   "id": "c31cc0b1",
   "metadata": {},
   "outputs": [],
   "source": [
    "# Segunda forma\n",
    "client.upsert(\n",
    "    collection_name=\"{collection_name}\",\n",
    "    points=[\n",
    "        models.PointStruct(\n",
    "            id=1,\n",
    "            payload={\n",
    "                \"color\": \"red\",\n",
    "            },\n",
    "            vector=[0.9, 0.1, 0.1],\n",
    "        ),\n",
    "        models.PointStruct(\n",
    "            id=2,\n",
    "            payload={\n",
    "                \"color\": \"green\",\n",
    "            },\n",
    "            vector=[0.1, 0.9, 0.1],\n",
    "        ),\n",
    "        models.PointStruct(\n",
    "            id=3,\n",
    "            payload={\n",
    "                \"color\": \"blue\",\n",
    "            },\n",
    "            vector=[0.1, 0.1, 0.9],\n",
    "        ),\n",
    "    ],\n",
    ")\n"
   ]
  },
  {
   "cell_type": "markdown",
   "id": "298a0d5c",
   "metadata": {},
   "source": [
    "### Subindo dados numa coleção em batch com paralelização\n",
    "\n",
    "- paralell: parâmetro que define o número de processos em paralelos que irão ser executados\n",
    "- max_retries: parâmetro que define o número de vezes que o processo deve ser repetido em caso de erro ao subir dados em uma collection "
   ]
  },
  {
   "cell_type": "code",
   "execution_count": null,
   "id": "882c41e6",
   "metadata": {},
   "outputs": [],
   "source": [
    "client.upload_points(\n",
    "    collection_name=\"{collection_name}\",\n",
    "    points=[\n",
    "        models.PointStruct(\n",
    "            id=1,\n",
    "            payload={\n",
    "                \"color\": \"red\",\n",
    "            },\n",
    "            vector=[0.9, 0.1, 0.1],\n",
    "        ),\n",
    "        models.PointStruct(\n",
    "            id=2,\n",
    "            payload={\n",
    "                \"color\": \"green\",\n",
    "            },\n",
    "            vector=[0.1, 0.9, 0.1],\n",
    "        ),\n",
    "    ],\n",
    "    parallel=4,\n",
    "    max_retries=3,\n",
    ")\n",
    "\n"
   ]
  },
  {
   "cell_type": "markdown",
   "id": "6ee84163",
   "metadata": {},
   "source": [
    "## Vetores"
   ]
  },
  {
   "cell_type": "markdown",
   "id": "424e4be4",
   "metadata": {},
   "source": [
    "### Atualizando um VETOR"
   ]
  },
  {
   "cell_type": "code",
   "execution_count": null,
   "id": "94747245",
   "metadata": {},
   "outputs": [],
   "source": [
    "# Aqui os points que possuem id=1 e id=2, terão seus vetores mudados pelos vetores abaixo\n",
    "\n",
    "client.update_vectors(\n",
    "    collection_name=\"{collection_name}\",\n",
    "    points=[\n",
    "        models.PointVectors(\n",
    "            id=1,\n",
    "            vector={\n",
    "                \"image\": [0.1, 0.2, 0.3, 0.4],\n",
    "            },\n",
    "        ),\n",
    "        models.PointVectors(\n",
    "            id=2,\n",
    "            vector={\n",
    "                \"text\": [0.9, 0.8, 0.7, 0.6, 0.5, 0.4, 0.3, 0.2],\n",
    "            },\n",
    "        ),\n",
    "    ],\n",
    ")\n"
   ]
  },
  {
   "cell_type": "markdown",
   "id": "74696d38",
   "metadata": {},
   "source": [
    "### Deletando um vetor"
   ]
  },
  {
   "cell_type": "code",
   "execution_count": null,
   "id": "4de2f797",
   "metadata": {},
   "outputs": [],
   "source": [
    "# O vetor é deletado, mas o point não. Caso queira apagar um point total, deverá usar a função que deleta um point.\n",
    "\n",
    "client.delete_vectors(\n",
    "    collection_name=\"{collection_name}\",\n",
    "    points=[0, 3, 100],\n",
    "    vectors=[\"text\", \"image\"],\n",
    ")\n"
   ]
  },
  {
   "cell_type": "markdown",
   "id": "fbc68b57",
   "metadata": {},
   "source": [
    "## Points"
   ]
  },
  {
   "cell_type": "markdown",
   "id": "d063362a",
   "metadata": {},
   "source": [
    "### Apagando um point via ID do point"
   ]
  },
  {
   "cell_type": "code",
   "execution_count": null,
   "id": "b2768af0",
   "metadata": {},
   "outputs": [],
   "source": [
    "# Os points de ID 0, 3 e 100 serão deletados.\n",
    "\n",
    "client.delete(\n",
    "    collection_name=\"{collection_name}\",\n",
    "    points_selector=models.PointIdsList(\n",
    "        points=[0, 3, 100],\n",
    "    ),\n",
    ")"
   ]
  },
  {
   "cell_type": "markdown",
   "id": "2b26192e",
   "metadata": {},
   "source": [
    "### Deletando um point baseado num valor de filtro"
   ]
  },
  {
   "cell_type": "code",
   "execution_count": null,
   "id": "a1d7614a",
   "metadata": {},
   "outputs": [],
   "source": [
    "# Aqui deleta os points que possuem no payload a chave color=\"red\"\n",
    "\n",
    "client.delete(\n",
    "    collection_name=\"{collection_name}\",\n",
    "    points_selector=models.FilterSelector(\n",
    "        filter=models.Filter(\n",
    "            must=[\n",
    "                models.FieldCondition(\n",
    "                    key=\"color\",\n",
    "                    match=models.MatchValue(value=\"red\"),\n",
    "                ),\n",
    "            ],\n",
    "        )\n",
    "    ),\n",
    ")\n"
   ]
  },
  {
   "cell_type": "markdown",
   "id": "f12f0fcf",
   "metadata": {},
   "source": [
    "### Trazendo points via ID"
   ]
  },
  {
   "cell_type": "code",
   "execution_count": null,
   "id": "68899143",
   "metadata": {},
   "outputs": [],
   "source": [
    "client.retrieve(\n",
    "    collection_name=\"{collection_name}\",\n",
    "    ids=[0, 3, 100],\n",
    ")"
   ]
  },
  {
   "cell_type": "markdown",
   "id": "d5aa83e1",
   "metadata": {},
   "source": [
    "### Contando o número de points que possuem tal filtro"
   ]
  },
  {
   "cell_type": "code",
   "execution_count": null,
   "id": "69e8c79e",
   "metadata": {},
   "outputs": [],
   "source": [
    "client.count(\n",
    "    collection_name=\"{collection_name}\",\n",
    "    count_filter=models.Filter(\n",
    "        must=[\n",
    "            models.FieldCondition(key=\"color\", match=models.MatchValue(value=\"red\")),\n",
    "        ]\n",
    "    ),\n",
    "    exact=True,\n",
    ")"
   ]
  },
  {
   "cell_type": "markdown",
   "id": "af2da983",
   "metadata": {},
   "source": [
    "## Payload"
   ]
  },
  {
   "cell_type": "markdown",
   "id": "ce80272a",
   "metadata": {},
   "source": [
    "### Update de payload via ID"
   ]
  },
  {
   "cell_type": "code",
   "execution_count": null,
   "id": "a03bc2b6",
   "metadata": {},
   "outputs": [],
   "source": [
    "# Aqui o payload será substituído nos points 0, 3, e 10\n",
    "\n",
    "client.set_payload(\n",
    "    collection_name=\"{collection_name}\",\n",
    "    payload={\n",
    "        \"property1\": \"string\",\n",
    "        \"property2\": \"string\",\n",
    "    },\n",
    "    points=[0, 3, 10],\n",
    ")\n"
   ]
  },
  {
   "cell_type": "markdown",
   "id": "4348af31",
   "metadata": {},
   "source": [
    "### Update de payload via filter"
   ]
  },
  {
   "cell_type": "code",
   "execution_count": null,
   "id": "77c6af48",
   "metadata": {},
   "outputs": [],
   "source": [
    "client.set_payload(\n",
    "    collection_name=\"{collection_name}\",\n",
    "    payload={\n",
    "        \"property1\": \"string\",\n",
    "        \"property2\": \"string\",\n",
    "    },\n",
    "    points=models.Filter(\n",
    "        must=[\n",
    "            models.FieldCondition(\n",
    "                key=\"color\",\n",
    "                match=models.MatchValue(value=\"red\"),\n",
    "            ),\n",
    "        ],\n",
    "    ),\n",
    ")\n"
   ]
  },
  {
   "cell_type": "markdown",
   "id": "37ba8466",
   "metadata": {},
   "source": [
    "## Buscas"
   ]
  },
  {
   "cell_type": "markdown",
   "id": "ae037008",
   "metadata": {},
   "source": [
    "### Busca por ID"
   ]
  },
  {
   "cell_type": "code",
   "execution_count": null,
   "id": "78070787",
   "metadata": {},
   "outputs": [],
   "source": [
    "client.query_points(\n",
    "    collection_name=\"{collection_name}\",\n",
    "    query=\"43cf51e2-8777-4f52-bc74-c2cbde0c8b04\", # <--- point id\n",
    ")"
   ]
  },
  {
   "cell_type": "markdown",
   "id": "34fd8915",
   "metadata": {},
   "source": [
    "### Busca com vetor e com filtro"
   ]
  },
  {
   "cell_type": "code",
   "execution_count": null,
   "id": "ed1fac75",
   "metadata": {},
   "outputs": [],
   "source": [
    "client.query_points(\n",
    "    collection_name=\"{collection_name}\",\n",
    "    query=[0.2, 0.1, 0.9, 0.7],\n",
    "    query_filter=models.Filter(\n",
    "        must=[\n",
    "            models.FieldCondition(\n",
    "                key=\"city\",\n",
    "                match=models.MatchValue(\n",
    "                    value=\"London\",\n",
    "                ),\n",
    "            )\n",
    "        ]\n",
    "    ),\n",
    "    search_params=models.SearchParams(hnsw_ef=128, exact=False),\n",
    "    limit=3,\n",
    ")\n"
   ]
  },
  {
   "cell_type": "markdown",
   "id": "4819d1d2",
   "metadata": {},
   "source": [
    "### Busca por vetor caso os points tenham mais de um vetor"
   ]
  },
  {
   "cell_type": "code",
   "execution_count": null,
   "id": "df0dfd3c",
   "metadata": {},
   "outputs": [],
   "source": [
    "client.query_points(\n",
    "    collection_name=\"{collection_name}\",\n",
    "    query=[0.2, 0.1, 0.9, 0.7],\n",
    "    using=\"image\",\n",
    "    limit=3,\n",
    ")"
   ]
  },
  {
   "cell_type": "markdown",
   "id": "039b6cc8",
   "metadata": {},
   "source": [
    "### Busca que trás o payload e o vetor"
   ]
  },
  {
   "cell_type": "code",
   "execution_count": null,
   "id": "93c1772a",
   "metadata": {},
   "outputs": [],
   "source": [
    "client.query_points(\n",
    "    collection_name=\"{collection_name}\",\n",
    "    query=[0.2, 0.1, 0.9, 0.7],\n",
    "    with_vectors=True,\n",
    "    with_payload=True,\n",
    ")"
   ]
  },
  {
   "cell_type": "markdown",
   "id": "a1faca1d",
   "metadata": {},
   "source": [
    "### Busca que trás apenas alguns campos do payload"
   ]
  },
  {
   "cell_type": "code",
   "execution_count": null,
   "id": "a3f1f956",
   "metadata": {},
   "outputs": [],
   "source": [
    "client.query_points(\n",
    "    collection_name=\"{collection_name}\",\n",
    "    query=[0.2, 0.1, 0.9, 0.7],\n",
    "    with_payload=[\"city\", \"village\", \"town\"],\n",
    ")"
   ]
  },
  {
   "cell_type": "markdown",
   "id": "605c5f31",
   "metadata": {},
   "source": [
    "### Busca com paginação"
   ]
  },
  {
   "cell_type": "code",
   "execution_count": null,
   "id": "9ae45a8d",
   "metadata": {},
   "outputs": [],
   "source": [
    "client.query_points(\n",
    "    collection_name=\"{collection_name}\",\n",
    "    query=[0.2, 0.1, 0.9, 0.7],\n",
    "    with_vectors=True,\n",
    "    with_payload=True,\n",
    "    limit=10,\n",
    "    offset=100,\n",
    ")"
   ]
  },
  {
   "cell_type": "markdown",
   "id": "c5dc9521",
   "metadata": {},
   "source": [
    "### Busca e agrupamento por grupos"
   ]
  },
  {
   "cell_type": "code",
   "execution_count": null,
   "id": "c94c2ac0",
   "metadata": {},
   "outputs": [],
   "source": [
    "client.query_points_groups(\n",
    "    collection_name=\"{collection_name}\",\n",
    "    query=[1.1],\n",
    "    group_by=\"document_id\",\n",
    "    limit=4,  # máximo número de grupos\n",
    "    group_size=2,  # Número máximo de elementos (points) por grupo\n",
    ")"
   ]
  },
  {
   "cell_type": "markdown",
   "id": "818b3228",
   "metadata": {},
   "source": [
    "## Explore search"
   ]
  },
  {
   "cell_type": "markdown",
   "id": "58a0f9a5",
   "metadata": {},
   "source": [
    "### Recommend search\n",
    "\n",
    "Essa busca usa inputs de exemplos postivos e negativos. Dependendo da estratégia abordada, o vetor resultante será a diferença dos exemplos postivos e negativos, isso pode ajudar muito mais nas buscas.\n",
    "\n",
    "\n",
    "Uma forma de usar é quando uma pessoa gosta de um filme, e gostou de outros filmes. Vc passaria o vetor dos filmes que ela gostou e os que não gostou para a busca, e ela retornaria um valor melhor."
   ]
  },
  {
   "cell_type": "code",
   "execution_count": null,
   "id": "fc28c397",
   "metadata": {},
   "outputs": [],
   "source": [
    "client.query_points(\n",
    "    collection_name=\"my_collection\",\n",
    "    query=models.RecommendQuery(\n",
    "        recommend=models.RecommendInput(\n",
    "            positive=[\n",
    "                [0.1, 0.2, 0.3, 0.4],\n",
    "                [0.5, 0.6, 0.7, 0.8],\n",
    "            ],\n",
    "            negative=[\n",
    "                [0.9, 0.1, 0.1, 0.3],\n",
    "            ],\n",
    "            strategy=models.RecommendStrategy.AVERAGE_VECTOR,\n",
    "        )\n",
    "    ),\n",
    "    limit=5,\n",
    ")"
   ]
  },
  {
   "cell_type": "markdown",
   "id": "59b4dd2b",
   "metadata": {},
   "source": [
    "### Discovery Search\n",
    "\n",
    "- Aqui temos uma método interessante, que divide o espaço vetorial entre pares positivos e negativos. Realiza a busca no campo dos positivos e retornar os melhores valores"
   ]
  },
  {
   "cell_type": "code",
   "execution_count": null,
   "id": "5279f4fe",
   "metadata": {},
   "outputs": [],
   "source": [
    "discover_queries = [\n",
    "    models.QueryRequest(\n",
    "        query=models.DiscoverQuery(\n",
    "            discover=models.DiscoverInput(\n",
    "                target=[0.2, 0.1, 0.9, 0.7],\n",
    "                context=[\n",
    "                    models.ContextPair(\n",
    "                        positive=100,\n",
    "                        negative=718,\n",
    "                    ),\n",
    "                    models.ContextPair(\n",
    "                        positive=200,\n",
    "                        negative=300,\n",
    "                    ),\n",
    "                ],\n",
    "            )\n",
    "        ),\n",
    "        limit=10,\n",
    "    ),\n",
    "]\n",
    "\n",
    "client.query_batch_points(\n",
    "    collection_name=\"{collection_name}\", requests=discover_queries\n",
    ")\n"
   ]
  },
  {
   "cell_type": "markdown",
   "id": "2c6be96a",
   "metadata": {},
   "source": [
    "### Context search"
   ]
  },
  {
   "cell_type": "code",
   "execution_count": null,
   "id": "6f7df81d",
   "metadata": {},
   "outputs": [],
   "source": [
    "discover_queries = [\n",
    "    models.QueryRequest(\n",
    "        query=models.ContextQuery(\n",
    "            context=[\n",
    "                models.ContextPair(\n",
    "                    positive=100,\n",
    "                    negative=718,\n",
    "                ),\n",
    "                models.ContextPair(\n",
    "                    positive=200,\n",
    "                    negative=300,\n",
    "                ),\n",
    "            ],\n",
    "        ),\n",
    "        limit=10,\n",
    "    ),\n",
    "]\n",
    "\n",
    "client.query_batch_points(\n",
    "    collection_name=\"{collection_name}\", requests=discover_queries\n",
    ")"
   ]
  },
  {
   "cell_type": "code",
   "execution_count": null,
   "metadata": {},
   "outputs": [],
   "source": []
  },
  {
   "cell_type": "code",
   "execution_count": null,
   "metadata": {},
   "outputs": [],
   "source": []
  },
  {
   "cell_type": "code",
   "execution_count": null,
   "metadata": {},
   "outputs": [],
   "source": []
  },
  {
   "cell_type": "code",
   "execution_count": null,
   "metadata": {},
   "outputs": [],
   "source": []
  },
  {
   "cell_type": "code",
   "execution_count": null,
   "id": "c37274b9",
   "metadata": {},
   "outputs": [],
   "source": []
  },
  {
   "cell_type": "markdown",
   "id": "8042509f",
   "metadata": {},
   "source": [
    "# Dataset"
   ]
  },
  {
   "cell_type": "code",
   "execution_count": 1,
   "id": "759aa4a1",
   "metadata": {},
   "outputs": [],
   "source": [
    "documents = [\n",
    "    {\n",
    "        \"name\": \"The Time Machine\",\n",
    "        \"description\": \"A man travels through time and witnesses the evolution of humanity.\",\n",
    "        \"author\": \"H.G. Wells\",\n",
    "        \"year\": 1895,\n",
    "    },\n",
    "    {\n",
    "        \"name\": \"Ender's Game\",\n",
    "        \"description\": \"A young boy is trained to become a military leader in a war against an alien race.\",\n",
    "        \"author\": \"Orson Scott Card\",\n",
    "        \"year\": 1985,\n",
    "    },\n",
    "    {\n",
    "        \"name\": \"Brave New World\",\n",
    "        \"description\": \"A dystopian society where people are genetically engineered and conditioned to conform to a strict social hierarchy.\",\n",
    "        \"author\": \"Aldous Huxley\",\n",
    "        \"year\": 1932,\n",
    "    },\n",
    "    {\n",
    "        \"name\": \"The Hitchhiker's Guide to the Galaxy\",\n",
    "        \"description\": \"A comedic science fiction series following the misadventures of an unwitting human and his alien friend.\",\n",
    "        \"author\": \"Douglas Adams\",\n",
    "        \"year\": 1979,\n",
    "    },\n",
    "    {\n",
    "        \"name\": \"Dune\",\n",
    "        \"description\": \"A desert planet is the site of political intrigue and power struggles.\",\n",
    "        \"author\": \"Frank Herbert\",\n",
    "        \"year\": 1965,\n",
    "    },\n",
    "    {\n",
    "        \"name\": \"Foundation\",\n",
    "        \"description\": \"A mathematician develops a science to predict the future of humanity and works to save civilization from collapse.\",\n",
    "        \"author\": \"Isaac Asimov\",\n",
    "        \"year\": 1951,\n",
    "    },\n",
    "    {\n",
    "        \"name\": \"Snow Crash\",\n",
    "        \"description\": \"A futuristic world where the internet has evolved into a virtual reality metaverse.\",\n",
    "        \"author\": \"Neal Stephenson\",\n",
    "        \"year\": 1992,\n",
    "    },\n",
    "    {\n",
    "        \"name\": \"Neuromancer\",\n",
    "        \"description\": \"A hacker is hired to pull off a near-impossible hack and gets pulled into a web of intrigue.\",\n",
    "        \"author\": \"William Gibson\",\n",
    "        \"year\": 1984,\n",
    "    },\n",
    "    {\n",
    "        \"name\": \"The War of the Worlds\",\n",
    "        \"description\": \"A Martian invasion of Earth throws humanity into chaos.\",\n",
    "        \"author\": \"H.G. Wells\",\n",
    "        \"year\": 1898,\n",
    "    },\n",
    "    {\n",
    "        \"name\": \"The Hunger Games\",\n",
    "        \"description\": \"A dystopian society where teenagers are forced to fight to the death in a televised spectacle.\",\n",
    "        \"author\": \"Suzanne Collins\",\n",
    "        \"year\": 2008,\n",
    "    },\n",
    "    {\n",
    "        \"name\": \"The Andromeda Strain\",\n",
    "        \"description\": \"A deadly virus from outer space threatens to wipe out humanity.\",\n",
    "        \"author\": \"Michael Crichton\",\n",
    "        \"year\": 1969,\n",
    "    },\n",
    "    {\n",
    "        \"name\": \"The Left Hand of Darkness\",\n",
    "        \"description\": \"A human ambassador is sent to a planet where the inhabitants are genderless and can change gender at will.\",\n",
    "        \"author\": \"Ursula K. Le Guin\",\n",
    "        \"year\": 1969,\n",
    "    },\n",
    "    {\n",
    "        \"name\": \"The Three-Body Problem\",\n",
    "        \"description\": \"Humans encounter an alien civilization that lives in a dying system.\",\n",
    "        \"author\": \"Liu Cixin\",\n",
    "        \"year\": 2008,\n",
    "    },\n",
    "]\n"
   ]
  },
  {
   "cell_type": "markdown",
   "id": "5df7c795",
   "metadata": {},
   "source": [
    "# Baixando modelo para criar embeddings"
   ]
  },
  {
   "cell_type": "code",
   "execution_count": 3,
   "metadata": {},
   "outputs": [],
   "source": [
    "from sentence_transformers import SentenceTransformer\n",
    "\n",
    "encoder = SentenceTransformer(model_name_or_path=\"all-MiniLM-L6-v2\")"
   ]
  },
  {
   "cell_type": "code",
   "execution_count": 5,
   "id": "d2e6c965",
   "metadata": {},
   "outputs": [
    {
     "data": {
      "text/plain": [
       "384"
      ]
     },
     "execution_count": 5,
     "metadata": {},
     "output_type": "execute_result"
    }
   ],
   "source": [
    "encoder.get_sentence_embedding_dimension()"
   ]
  },
  {
   "cell_type": "markdown",
   "id": "5aacb635",
   "metadata": {},
   "source": [
    "# Etapa do qdrant"
   ]
  },
  {
   "cell_type": "markdown",
   "id": "e98311fa",
   "metadata": {},
   "source": [
    "## Criando conexão com o docker do qdrant"
   ]
  },
  {
   "cell_type": "code",
   "execution_count": 7,
   "id": "1eb91365",
   "metadata": {},
   "outputs": [],
   "source": [
    "from qdrant_client import QdrantClient\n",
    "\n",
    "qclient = QdrantClient(url=\"http://localhost:6333\")"
   ]
  },
  {
   "cell_type": "markdown",
   "id": "7204c1bb",
   "metadata": {},
   "source": [
    "## Criando collection no qdrant"
   ]
  },
  {
   "cell_type": "code",
   "execution_count": 6,
   "metadata": {},
   "outputs": [
    {
     "data": {
      "text/plain": [
       "True"
      ]
     },
     "execution_count": 6,
     "metadata": {},
     "output_type": "execute_result"
    }
   ],
   "source": [
    "from qdrant_client import models\n",
    "\n",
    "qclient.create_collection(\n",
    "    collection_name=\"testezao\",\n",
    "    vectors_config=models.VectorParams(\n",
    "        size=encoder.get_sentence_embedding_dimension(),\n",
    "        distance=models.Distance.COSINE\n",
    "    )\n",
    ")"
   ]
  },
  {
   "cell_type": "markdown",
   "id": "a446919b",
   "metadata": {},
   "source": [
    " ## Realizando upload dos arquivos"
   ]
  },
  {
   "cell_type": "code",
   "execution_count": 8,
   "id": "888f7e42",
   "metadata": {},
   "outputs": [
    {
     "name": "stderr",
     "output_type": "stream",
     "text": [
      "/home/rmede/projects/searchs/.venv/lib/python3.12/site-packages/torch/nn/modules/module.py:1762: FutureWarning: `encoder_attention_mask` is deprecated and will be removed in version 4.55.0 for `BertSdpaSelfAttention.forward`.\n",
      "  return forward_call(*args, **kwargs)\n"
     ]
    }
   ],
   "source": [
    "qclient.upload_points(\n",
    "    collection_name=\"testezao\",\n",
    "    points=[\n",
    "        models.PointStruct(\n",
    "            id=idx,\n",
    "            vector=encoder.encode(doc[\"description\"]).tolist(),\n",
    "            payload=doc\n",
    "        )\n",
    "        for idx, doc in enumerate(documents)\n",
    "    ]\n",
    ")"
   ]
  },
  {
   "cell_type": "markdown",
   "id": "435a64e4",
   "metadata": {},
   "source": [
    "# Realizando uma busca"
   ]
  },
  {
   "cell_type": "code",
   "execution_count": 20,
   "id": "66f73395",
   "metadata": {},
   "outputs": [
    {
     "name": "stdout",
     "output_type": "stream",
     "text": [
      "SCORE: 0.5802816 -> PAYLOAD {'name': \"The Hitchhiker's Guide to the Galaxy\", 'description': 'A comedic science fiction series following the misadventures of an unwitting human and his alien friend.', 'author': 'Douglas Adams', 'year': 1979}\n",
      "SCORE: 0.4930028 -> PAYLOAD {'name': 'The Three-Body Problem', 'description': 'Humans encounter an alien civilization that lives in a dying system.', 'author': 'Liu Cixin', 'year': 2008}\n",
      "SCORE: 0.38336292 -> PAYLOAD {'name': 'The War of the Worlds', 'description': 'A Martian invasion of Earth throws humanity into chaos.', 'author': 'H.G. Wells', 'year': 1898}\n"
     ]
    }
   ],
   "source": [
    "hits = qclient.query_points(\n",
    "    collection_name=\"testezao\",\n",
    "    query=encoder.encode(\"alien  film\").tolist(),\n",
    "    limit=3\n",
    ").points\n",
    "\n",
    "for hit in hits:\n",
    "    print(f\"SCORE: {hit.score} -> PAYLOAD {hit.payload}\")"
   ]
  },
  {
   "cell_type": "markdown",
   "id": "4026ed1e",
   "metadata": {},
   "source": [
    "## Busca com filtro"
   ]
  },
  {
   "cell_type": "code",
   "execution_count": 24,
   "id": "fd3d1179",
   "metadata": {},
   "outputs": [
    {
     "name": "stdout",
     "output_type": "stream",
     "text": [
      "SCORE: 0.4930028 -> The Three-Body Problem YEAR: 2008\n",
      "SCORE: 0.17587417 -> The Hunger Games YEAR: 2008\n"
     ]
    },
    {
     "name": "stderr",
     "output_type": "stream",
     "text": [
      "/home/rmede/projects/searchs/.venv/lib/python3.12/site-packages/torch/nn/modules/module.py:1762: FutureWarning: `encoder_attention_mask` is deprecated and will be removed in version 4.55.0 for `BertSdpaSelfAttention.forward`.\n",
      "  return forward_call(*args, **kwargs)\n"
     ]
    }
   ],
   "source": [
    "hits = qclient.query_points(\n",
    "    collection_name=\"testezao\",\n",
    "    query=encoder.encode(\"alien  film\").tolist(),\n",
    "    query_filter=models.Filter(\n",
    "        must=[\n",
    "            models.FieldCondition(key=\"year\", range=models.Range(gte=2000))\n",
    "        ]\n",
    "    ),\n",
    "    limit=3\n",
    ").points\n",
    "\n",
    "for hit in hits:\n",
    "    print(f\"SCORE: {hit.score} -> {hit.payload[\"name\"]} YEAR: {hit.payload[\"year\"]}\")"
   ]
  },
  {
   "cell_type": "code",
   "execution_count": null,
   "id": "18b82699",
   "metadata": {},
   "outputs": [],
   "source": []
  },
  {
   "cell_type": "code",
   "execution_count": null,
   "id": "25cbe7d5",
   "metadata": {},
   "outputs": [],
   "source": []
  }
 ],
 "metadata": {
  "kernelspec": {
   "display_name": "searchs (3.12.3)",
   "language": "python",
   "name": "python3"
  },
  "language_info": {
   "codemirror_mode": {
    "name": "ipython",
    "version": 3
   },
   "file_extension": ".py",
   "mimetype": "text/x-python",
   "name": "python",
   "nbconvert_exporter": "python",
   "pygments_lexer": "ipython3",
   "version": "3.12.3"
  }
 },
 "nbformat": 4,
 "nbformat_minor": 5
}
